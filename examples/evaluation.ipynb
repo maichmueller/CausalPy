{
 "cells": [
  {
   "cell_type": "code",
   "execution_count": null,
   "metadata": {
    "collapsed": true
   },
   "outputs": [],
   "source": [
    "import matplotlib.pyplot as plt\n",
    "import numpy as np\n",
    "import pandas as pd\n",
    "import os"
   ]
  },
  {
   "cell_type": "code",
   "execution_count": null,
   "outputs": [],
   "source": [
    "plt.style.use('science')"
   ],
   "metadata": {
    "collapsed": false,
    "pycharm": {
     "name": "#%%\n"
    }
   }
  },
  {
   "cell_type": "code",
   "execution_count": null,
   "outputs": [],
   "source": [
    "def adjacent_values(vals, q1, q3):\n",
    "    upper_adjacent_value = q3 + (q3 - q1) * 1.5\n",
    "    upper_adjacent_value = np.clip(upper_adjacent_value, q3, vals[-1])\n",
    "\n",
    "    lower_adjacent_value = q1 - (q3 - q1) * 1.5\n",
    "    lower_adjacent_value = np.clip(lower_adjacent_value, vals[0], q1)\n",
    "    return lower_adjacent_value, upper_adjacent_value\n",
    "\n",
    "\n",
    "def set_axis_style(ax, labels):\n",
    "    ax.get_xaxis().set_tick_params(direction='out')\n",
    "    ax.xaxis.set_ticks_position('bottom')\n",
    "    ax.set_xticks(np.arange(1, len(labels) + 1))\n",
    "    ax.set_xticklabels(labels)\n",
    "    ax.set_xlim(0.25, len(labels) + 0.75)\n",
    "\n",
    "    ax.set_ylim(-0.1, 1.1)\n",
    "    ax.set_xlabel('Candidates')\n",
    "    ax.set_ylabel(\"Masking Value\")\n",
    "\n",
    "\n",
    "def plot_violin(data_df, title, ground_truth, fname=None):\n",
    "\n",
    "    fig, ax = plt.subplots(nrows=1, ncols=1, figsize=(10, 4))\n",
    "    ax.grid(False)\n",
    "\n",
    "    ax.set_title(title)\n",
    "    parts = ax.violinplot(\n",
    "            data_df.to_numpy(), showmeans=False, showmedians=False,\n",
    "            showextrema=False)\n",
    "\n",
    "    for pc in parts['bodies']:\n",
    "        pc.set_facecolor('#D43F3A')\n",
    "        pc.set_edgecolor('black')\n",
    "        pc.set_alpha(1)\n",
    "\n",
    "    quartile1, medians, quartile3 = np.percentile(data_df, [25, 50, 75], axis=0)\n",
    "\n",
    "    mean = np.mean(data_df, axis=0)\n",
    "    whiskers = np.array([\n",
    "        adjacent_values(sorted_array, q1, q3)\n",
    "        for sorted_array, q1, q3 in zip([np.sort(data_df[var]) for var in data_df], quartile1, quartile3)])\n",
    "    whiskersMin, whiskersMax = whiskers[:, 0], whiskers[:, 1]\n",
    "\n",
    "\n",
    "    inds = np.arange(1, len(medians) + 1)\n",
    "    ax.scatter(inds, mean, marker='x', color='orange', edgecolors=\"black\", s=30, zorder=3, label=\"Mean\")\n",
    "    ax.scatter(inds, medians, marker='o', color='white', s=30, zorder=3, label=\"Median\")\n",
    "    ax.scatter(inds, ground_truth, marker='o', color='green', s=30, zorder=3, label=\"Ground Truth\")\n",
    "    ax.vlines(inds, quartile1, quartile3, color='k', linestyle='-', lw=5)\n",
    "    ax.vlines(inds, whiskersMin, whiskersMax, color='k', linestyle='-', lw=1)\n",
    "    lgd = ax.legend(loc='upper center', bbox_to_anchor=(0.5, -0.2),\n",
    "          ncol=3, fancybox=True, shadow=True)\n",
    "    # set style for the axes\n",
    "    labels = [f\"${var.split('_')[0]}_\" + \"{\" + f\"{var.split('_')[1]}\" + \"}$\" for var in data_df.columns]\n",
    "\n",
    "    set_axis_style(ax, labels)\n",
    "\n",
    "    plt.subplots_adjust(bottom=0.15, wspace=0.05)\n",
    "    if fname is not None:\n",
    "        if not os.path.isdir(\"plots\"):\n",
    "            os.mkdir(\"plots\")\n",
    "        plt.savefig(f\"plots/{fname}.pdf\", bbox_extra_artists=(lgd,), bbox_inches='tight')\n",
    "    plt.show()"
   ],
   "metadata": {
    "collapsed": false,
    "pycharm": {
     "name": "#%%\n"
    }
   }
  },
  {
   "cell_type": "code",
   "execution_count": null,
   "outputs": [],
   "source": [],
   "metadata": {
    "collapsed": false,
    "pycharm": {
     "name": "#%%\n"
    }
   }
  }
 ],
 "metadata": {
  "kernelspec": {
   "display_name": "Python 3",
   "language": "python",
   "name": "python3"
  },
  "language_info": {
   "codemirror_mode": {
    "name": "ipython",
    "version": 2
   },
   "file_extension": ".py",
   "mimetype": "text/x-python",
   "name": "python",
   "nbconvert_exporter": "python",
   "pygments_lexer": "ipython2",
   "version": "2.7.6"
  }
 },
 "nbformat": 4,
 "nbformat_minor": 0
}