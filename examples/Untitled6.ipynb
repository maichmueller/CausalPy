{
 "cells": [
  {
   "cell_type": "code",
   "execution_count": 1,
   "metadata": {},
   "outputs": [],
   "source": [
    "import numpy as np\n",
    "import matplotlib.pyplot as plt\n",
    "import pandas as pd"
   ]
  },
  {
   "cell_type": "code",
   "execution_count": 2,
   "metadata": {},
   "outputs": [],
   "source": [
    "N = 10000\n"
   ]
  },
  {
   "cell_type": "code",
   "execution_count": 3,
   "metadata": {},
   "outputs": [],
   "source": []
  },
  {
   "cell_type": "code",
   "execution_count": 4,
   "metadata": {},
   "outputs": [
    {
     "name": "stdout",
     "output_type": "stream",
     "text": [
      "-4.214500866028184\n"
     ]
    }
   ],
   "source": [
    "print(cauchy.mean())"
   ]
  },
  {
   "cell_type": "code",
   "execution_count": 20,
   "metadata": {},
   "outputs": [
    {
     "name": "stdout",
     "output_type": "stream",
     "text": [
      "-0.7847110854278011\n",
      "-0.2966500165601038\n",
      "0.5969109625271507\n",
      "2.9636115476830023\n",
      "0.3851220039264068\n",
      "2.7069032477380155\n",
      "0.6628403044319687\n",
      "-2.6039190092865176\n",
      "-0.66388443668287\n",
      "0.050490435998151596\n",
      "-6.6251604431189905\n",
      "-1.4093691958493504\n",
      "7.426704026024736\n",
      "-0.41013115541546225\n",
      "-0.3884077940623901\n",
      "1.4467579361362035\n",
      "0.32191372847129535\n",
      "-8.835171205464322\n",
      "-0.42488092602199407\n",
      "1.4712956261093915\n"
     ]
    }
   ],
   "source": [
    "for N in range(20):\n",
    "    cauchy = np.random.standard_cauchy(size=10**7)\n",
    "    print(cauchy.mean())"
   ]
  },
  {
   "cell_type": "code",
   "execution_count": null,
   "metadata": {},
   "outputs": [],
   "source": []
  }
 ],
 "metadata": {
  "kernelspec": {
   "display_name": "Python [conda env:causalpy] *",
   "language": "python",
   "name": "conda-env-causalpy-py"
  },
  "language_info": {
   "codemirror_mode": {
    "name": "ipython",
    "version": 3
   },
   "file_extension": ".py",
   "mimetype": "text/x-python",
   "name": "python",
   "nbconvert_exporter": "python",
   "pygments_lexer": "ipython3",
   "version": "3.7.6"
  }
 },
 "nbformat": 4,
 "nbformat_minor": 4
}
