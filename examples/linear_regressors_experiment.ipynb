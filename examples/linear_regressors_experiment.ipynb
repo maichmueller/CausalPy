{
 "cells": [
  {
   "cell_type": "code",
   "execution_count": 1,
   "metadata": {},
   "outputs": [
    {
     "name": "stderr",
     "output_type": "stream",
     "text": [
      "/home/michael/GitHub/CausalPy/causalpy/causal_prediction/interventional/agnostic.py:324: SyntaxWarning: assertion is always true, perhaps remove parentheses?\n",
      "  assert (\n"
     ]
    }
   ],
   "source": [
    "import itertools\n",
    "import os\n",
    "from functools import partial\n",
    "from typing import Union, Collection, Optional\n",
    "\n",
    "import visdom\n",
    "import torch\n",
    "from torch.nn import Parameter, Module\n",
    "from torch import Tensor\n",
    "from torch.utils.data import DataLoader, TensorDataset\n",
    "import math\n",
    "\n",
    "from tqdm.notebook import tqdm\n",
    "\n",
    "from causalpy import SCM, LinearAssignment, NoiseGenerator, DiscreteNoise\n",
    "from causalpy.neural_networks import cINN, L0InputGate\n",
    "import pandas as pd\n",
    "import numpy as np\n",
    "from examples.simulation_linear import simulate\n",
    "from causalpy.causal_prediction.interventional import ICPredictor, AgnosticPredictor\n",
    "from sklearn.model_selection import StratifiedShuffleSplit\n",
    "from scipy.stats import wasserstein_distance\n",
    "from plotly import graph_objs as go\n",
    "from build_scm_funcs import *\n",
    "from linear_regression_eval import *\n",
    "\n",
    "\n",
    "import torch as th\n",
    "import math\n",
    "from torch.utils.data import Sampler"
   ]
  },
  {
   "cell_type": "code",
   "execution_count": 2,
   "metadata": {},
   "outputs": [
    {
     "name": "stdout",
     "output_type": "stream",
     "text": [
      "Environment 1: Intervention on variable X_0 for value 0.\n",
      "Environment 2: Intervention on variable X_1 for value 0.\n",
      "Environment 3: Intervention on variable X_2 for value 0.\n",
      "Environment 4: Intervention on variable X_3 for value 0.\n",
      "Environment 5: Intervention on variable X_4 for value 0.\n",
      "Environment 6: Intervention on variable X_5 for value 0.\n",
      "Structural Causal Model of 7 variables: X_0, X_1, X_2, X_3, Y, X_4, X_5\n",
      "Following variables are actively intervened on: []\n",
      "Current Assignment Functions are:\n",
      "X_0 := f(N) = 1 N\t [ N := Normal(loc=0, scale=1) ]\n",
      "X_1 := f(N, X_0) = 1 + 1 N + 1 X_0\t [ N := Normal(loc=0, scale=1) ]\n",
      "X_2 := f(N, X_0, X_1) = 1 + 1 N + 0.8 X_0 + -1.2 X_1\t [ N := Normal(loc=0, scale=1) ]\n",
      "X_3 := f(N, X_1, X_2) = 1 N + 0.3 X_1 + 0.4 X_2\t [ N := Normal(loc=0, scale=1) ]\n",
      "  Y := f(N, X_3, X_0) = 0.6 + 1 N + 1 X_3 + -1 X_0\t [ N := Normal(loc=0, scale=1) ]\n",
      "X_4 := f(N, Y) = 1.2 + 1 N + -0.7 Y\t [ N := Normal(loc=0, scale=1) ]\n",
      "X_5 := f(N, X_3, Y) = 0.5 + 1 N + -0.7 X_3 + 0.4 Y\t [ N := Normal(loc=0, scale=1) ]\n",
      "Target Variable: Y\n",
      "Actual Parents: X_0, X_3\n",
      "Candidate Parents: X_0, X_1, X_2, X_3, X_4, X_5\n",
      "Sample size: 30\n"
     ]
    },
    {
     "data": {
      "application/vnd.jupyter.widget-view+json": {
       "model_id": "cfe4136c987243a6a5c2f23a8bc50c52",
       "version_major": 2,
       "version_minor": 0
      },
      "text/plain": [
       "HBox(children=(FloatProgress(value=0.0), HTML(value='')))"
      ]
     },
     "metadata": {},
     "output_type": "display_data"
    },
    {
     "name": "stdout",
     "output_type": "stream",
     "text": [
      "\n",
      "{'X_0': 1.0, 'X_1': 1.0, 'X_2': 1.0, 'X_3': 1.0, 'X_4': 1.0, 'X_5': 1.0}\n",
      "Environment 1: Intervention on variable X_0 for value 0.\n",
      "Environment 2: Intervention on variable X_1 for value 0.\n",
      "Environment 3: Intervention on variable X_2 for value 0.\n",
      "Environment 4: Intervention on variable X_3 for value 0.\n",
      "Environment 5: Intervention on variable X_4 for value 0.\n",
      "Environment 6: Intervention on variable X_5 for value 0.\n",
      "Structural Causal Model of 7 variables: X_0, X_1, X_2, X_3, Y, X_4, X_5\n",
      "Following variables are actively intervened on: []\n",
      "Current Assignment Functions are:\n",
      "X_0 := f(N) = 1 N\t [ N := Normal(loc=0, scale=1) ]\n",
      "X_1 := f(N, X_0) = 1 + 1 N + 1 X_0\t [ N := Normal(loc=0, scale=1) ]\n",
      "X_2 := f(N, X_0, X_1) = 1 + 1 N + 0.8 X_0 + -1.2 X_1\t [ N := Normal(loc=0, scale=1) ]\n",
      "X_3 := f(N, X_1, X_2) = 1 N + 0.3 X_1 + 0.4 X_2\t [ N := Normal(loc=0, scale=1) ]\n",
      "  Y := f(N, X_3, X_0) = 0.6 + 1 N + 1 X_3 + -1 X_0\t [ N := Normal(loc=0, scale=1) ]\n",
      "X_4 := f(N, Y) = 1.2 + 1 N + -0.7 Y\t [ N := Normal(loc=0, scale=1) ]\n",
      "X_5 := f(N, X_3, Y) = 0.5 + 1 N + -0.7 X_3 + 0.4 Y\t [ N := Normal(loc=0, scale=1) ]\n",
      "Target Variable: Y\n",
      "Actual Parents: X_0, X_3\n",
      "Candidate Parents: X_0, X_1, X_2, X_3, X_4, X_5\n",
      "Sample size: 60\n"
     ]
    },
    {
     "data": {
      "application/vnd.jupyter.widget-view+json": {
       "model_id": "8812b0a488c7413ab606782a6a8e65e7",
       "version_major": 2,
       "version_minor": 0
      },
      "text/plain": [
       "HBox(children=(FloatProgress(value=0.0), HTML(value='')))"
      ]
     },
     "metadata": {},
     "output_type": "display_data"
    },
    {
     "name": "stdout",
     "output_type": "stream",
     "text": [
      "\n",
      "{'X_0': 0.17, 'X_1': 0.17, 'X_2': 0.21, 'X_3': 0.17, 'X_4': 0.36, 'X_5': 0.24}\n",
      "Environment 1: Intervention on variable X_0 for value 0.\n",
      "Environment 2: Intervention on variable X_1 for value 0.\n",
      "Environment 3: Intervention on variable X_2 for value 0.\n",
      "Environment 4: Intervention on variable X_3 for value 0.\n",
      "Environment 5: Intervention on variable X_4 for value 0.\n",
      "Environment 6: Intervention on variable X_5 for value 0.\n",
      "Structural Causal Model of 7 variables: X_0, X_1, X_2, X_3, Y, X_4, X_5\n",
      "Following variables are actively intervened on: []\n",
      "Current Assignment Functions are:\n",
      "X_0 := f(N) = 1 N\t [ N := Normal(loc=0, scale=1) ]\n",
      "X_1 := f(N, X_0) = 1 + 1 N + 1 X_0\t [ N := Normal(loc=0, scale=1) ]\n",
      "X_2 := f(N, X_0, X_1) = 1 + 1 N + 0.8 X_0 + -1.2 X_1\t [ N := Normal(loc=0, scale=1) ]\n",
      "X_3 := f(N, X_1, X_2) = 1 N + 0.3 X_1 + 0.4 X_2\t [ N := Normal(loc=0, scale=1) ]\n",
      "  Y := f(N, X_3, X_0) = 0.6 + 1 N + 1 X_3 + -1 X_0\t [ N := Normal(loc=0, scale=1) ]\n",
      "X_4 := f(N, Y) = 1.2 + 1 N + -0.7 Y\t [ N := Normal(loc=0, scale=1) ]\n",
      "X_5 := f(N, X_3, Y) = 0.5 + 1 N + -0.7 X_3 + 0.4 Y\t [ N := Normal(loc=0, scale=1) ]\n",
      "Target Variable: Y\n",
      "Actual Parents: X_0, X_3\n",
      "Candidate Parents: X_0, X_1, X_2, X_3, X_4, X_5\n",
      "Sample size: 90\n"
     ]
    },
    {
     "data": {
      "application/vnd.jupyter.widget-view+json": {
       "model_id": "8e4c23a8830d495f90896c9127d2bf92",
       "version_major": 2,
       "version_minor": 0
      },
      "text/plain": [
       "HBox(children=(FloatProgress(value=0.0), HTML(value='')))"
      ]
     },
     "metadata": {},
     "output_type": "display_data"
    },
    {
     "name": "stdout",
     "output_type": "stream",
     "text": [
      "\n",
      "{'X_0': 1.0, 'X_1': 0.97, 'X_2': 0.96, 'X_3': 1.0, 'X_4': 1.0, 'X_5': 0.94}\n",
      "Environment 1: Intervention on variable X_0 for value 0.\n",
      "Environment 2: Intervention on variable X_1 for value 0.\n",
      "Environment 3: Intervention on variable X_2 for value 0.\n",
      "Environment 4: Intervention on variable X_3 for value 0.\n",
      "Environment 5: Intervention on variable X_4 for value 0.\n",
      "Environment 6: Intervention on variable X_5 for value 0.\n",
      "Structural Causal Model of 7 variables: X_0, X_1, X_2, X_3, Y, X_4, X_5\n",
      "Following variables are actively intervened on: []\n",
      "Current Assignment Functions are:\n",
      "X_0 := f(N) = 1 N\t [ N := Normal(loc=0, scale=1) ]\n",
      "X_1 := f(N, X_0) = 1 + 1 N + 1 X_0\t [ N := Normal(loc=0, scale=1) ]\n",
      "X_2 := f(N, X_0, X_1) = 1 + 1 N + 0.8 X_0 + -1.2 X_1\t [ N := Normal(loc=0, scale=1) ]\n",
      "X_3 := f(N, X_1, X_2) = 1 N + 0.3 X_1 + 0.4 X_2\t [ N := Normal(loc=0, scale=1) ]\n",
      "  Y := f(N, X_3, X_0) = 0.6 + 1 N + 1 X_3 + -1 X_0\t [ N := Normal(loc=0, scale=1) ]\n",
      "X_4 := f(N, Y) = 1.2 + 1 N + -0.7 Y\t [ N := Normal(loc=0, scale=1) ]\n",
      "X_5 := f(N, X_3, Y) = 0.5 + 1 N + -0.7 X_3 + 0.4 Y\t [ N := Normal(loc=0, scale=1) ]\n",
      "Target Variable: Y\n",
      "Actual Parents: X_0, X_3\n",
      "Candidate Parents: X_0, X_1, X_2, X_3, X_4, X_5\n",
      "Sample size: 120\n"
     ]
    },
    {
     "data": {
      "application/vnd.jupyter.widget-view+json": {
       "model_id": "fe8827a85f5a485ab1cfb6dfcff6890d",
       "version_major": 2,
       "version_minor": 0
      },
      "text/plain": [
       "HBox(children=(FloatProgress(value=0.0), HTML(value='')))"
      ]
     },
     "metadata": {},
     "output_type": "display_data"
    },
    {
     "name": "stdout",
     "output_type": "stream",
     "text": [
      "\n",
      "{'X_0': 0.84, 'X_1': 0.83, 'X_2': 0.74, 'X_3': 0.92, 'X_4': 0.87, 'X_5': 0.82}\n",
      "Environment 1: Intervention on variable X_0 for value 0.\n",
      "Environment 2: Intervention on variable X_1 for value 0.\n",
      "Environment 3: Intervention on variable X_2 for value 0.\n",
      "Environment 4: Intervention on variable X_3 for value 0.\n",
      "Environment 5: Intervention on variable X_4 for value 0.\n",
      "Environment 6: Intervention on variable X_5 for value 0.\n",
      "Structural Causal Model of 7 variables: X_0, X_1, X_2, X_3, Y, X_4, X_5\n",
      "Following variables are actively intervened on: []\n",
      "Current Assignment Functions are:\n",
      "X_0 := f(N) = 1 N\t [ N := Normal(loc=0, scale=1) ]\n",
      "X_1 := f(N, X_0) = 1 + 1 N + 1 X_0\t [ N := Normal(loc=0, scale=1) ]\n",
      "X_2 := f(N, X_0, X_1) = 1 + 1 N + 0.8 X_0 + -1.2 X_1\t [ N := Normal(loc=0, scale=1) ]\n",
      "X_3 := f(N, X_1, X_2) = 1 N + 0.3 X_1 + 0.4 X_2\t [ N := Normal(loc=0, scale=1) ]\n",
      "  Y := f(N, X_3, X_0) = 0.6 + 1 N + 1 X_3 + -1 X_0\t [ N := Normal(loc=0, scale=1) ]\n",
      "X_4 := f(N, Y) = 1.2 + 1 N + -0.7 Y\t [ N := Normal(loc=0, scale=1) ]\n",
      "X_5 := f(N, X_3, Y) = 0.5 + 1 N + -0.7 X_3 + 0.4 Y\t [ N := Normal(loc=0, scale=1) ]\n",
      "Target Variable: Y\n",
      "Actual Parents: X_0, X_3\n",
      "Candidate Parents: X_0, X_1, X_2, X_3, X_4, X_5\n",
      "Sample size: 200\n"
     ]
    },
    {
     "data": {
      "application/vnd.jupyter.widget-view+json": {
       "model_id": "a98711b9b1434312a29d7b6773e62500",
       "version_major": 2,
       "version_minor": 0
      },
      "text/plain": [
       "HBox(children=(FloatProgress(value=0.0), HTML(value='')))"
      ]
     },
     "metadata": {},
     "output_type": "display_data"
    },
    {
     "name": "stdout",
     "output_type": "stream",
     "text": [
      "\n",
      "{'X_0': 0.9, 'X_1': 0.89, 'X_2': 0.88, 'X_3': 0.91, 'X_4': 0.9, 'X_5': 0.9}\n",
      "Environment 1: Intervention on variable X_0 for value 0.\n",
      "Environment 2: Intervention on variable X_1 for value 0.\n",
      "Environment 3: Intervention on variable X_2 for value 0.\n",
      "Environment 4: Intervention on variable X_3 for value 0.\n",
      "Environment 5: Intervention on variable X_4 for value 0.\n",
      "Environment 6: Intervention on variable X_5 for value 0.\n",
      "Structural Causal Model of 7 variables: X_0, X_1, X_2, X_3, Y, X_4, X_5\n",
      "Following variables are actively intervened on: []\n",
      "Current Assignment Functions are:\n",
      "X_0 := f(N) = 1 N\t [ N := Normal(loc=0, scale=1) ]\n",
      "X_1 := f(N, X_0) = 1 + 1 N + 1 X_0\t [ N := Normal(loc=0, scale=1) ]\n",
      "X_2 := f(N, X_0, X_1) = 1 + 1 N + 0.8 X_0 + -1.2 X_1\t [ N := Normal(loc=0, scale=1) ]\n",
      "X_3 := f(N, X_1, X_2) = 1 N + 0.3 X_1 + 0.4 X_2\t [ N := Normal(loc=0, scale=1) ]\n",
      "  Y := f(N, X_3, X_0) = 0.6 + 1 N + 1 X_3 + -1 X_0\t [ N := Normal(loc=0, scale=1) ]\n",
      "X_4 := f(N, Y) = 1.2 + 1 N + -0.7 Y\t [ N := Normal(loc=0, scale=1) ]\n",
      "X_5 := f(N, X_3, Y) = 0.5 + 1 N + -0.7 X_3 + 0.4 Y\t [ N := Normal(loc=0, scale=1) ]\n",
      "Target Variable: Y\n",
      "Actual Parents: X_0, X_3\n",
      "Candidate Parents: X_0, X_1, X_2, X_3, X_4, X_5\n",
      "Sample size: 300\n"
     ]
    },
    {
     "data": {
      "application/vnd.jupyter.widget-view+json": {
       "model_id": "fe1f09f5f1e04ca7ba973826b05675a6",
       "version_major": 2,
       "version_minor": 0
      },
      "text/plain": [
       "HBox(children=(FloatProgress(value=0.0), HTML(value='')))"
      ]
     },
     "metadata": {},
     "output_type": "display_data"
    },
    {
     "name": "stdout",
     "output_type": "stream",
     "text": [
      "\n",
      "{'X_0': 0.61, 'X_1': 0.08, 'X_2': 0.12, 'X_3': 0.53, 'X_4': 0.51, 'X_5': 0.32}\n",
      "Environment 1: Intervention on variable X_0 for value 0.\n",
      "Environment 2: Intervention on variable X_1 for value 0.\n",
      "Environment 3: Intervention on variable X_2 for value 0.\n",
      "Environment 4: Intervention on variable X_3 for value 0.\n",
      "Environment 5: Intervention on variable X_4 for value 0.\n",
      "Environment 6: Intervention on variable X_5 for value 0.\n",
      "Structural Causal Model of 7 variables: X_0, X_1, X_2, X_3, Y, X_4, X_5\n",
      "Following variables are actively intervened on: []\n",
      "Current Assignment Functions are:\n",
      "X_0 := f(N) = 1 N\t [ N := Normal(loc=0, scale=1) ]\n",
      "X_1 := f(N, X_0) = 1 + 1 N + 1 X_0\t [ N := Normal(loc=0, scale=1) ]\n",
      "X_2 := f(N, X_0, X_1) = 1 + 1 N + 0.8 X_0 + -1.2 X_1\t [ N := Normal(loc=0, scale=1) ]\n",
      "X_3 := f(N, X_1, X_2) = 1 N + 0.3 X_1 + 0.4 X_2\t [ N := Normal(loc=0, scale=1) ]\n",
      "  Y := f(N, X_3, X_0) = 0.6 + 1 N + 1 X_3 + -1 X_0\t [ N := Normal(loc=0, scale=1) ]\n",
      "X_4 := f(N, Y) = 1.2 + 1 N + -0.7 Y\t [ N := Normal(loc=0, scale=1) ]\n",
      "X_5 := f(N, X_3, Y) = 0.5 + 1 N + -0.7 X_3 + 0.4 Y\t [ N := Normal(loc=0, scale=1) ]\n",
      "Target Variable: Y\n",
      "Actual Parents: X_0, X_3\n",
      "Candidate Parents: X_0, X_1, X_2, X_3, X_4, X_5\n",
      "Sample size: 600\n"
     ]
    },
    {
     "data": {
      "application/vnd.jupyter.widget-view+json": {
       "model_id": "c6fced7cb17a4223b1912bffee05405e",
       "version_major": 2,
       "version_minor": 0
      },
      "text/plain": [
       "HBox(children=(FloatProgress(value=0.0), HTML(value='')))"
      ]
     },
     "metadata": {},
     "output_type": "display_data"
    },
    {
     "name": "stdout",
     "output_type": "stream",
     "text": [
      "\n",
      "{'X_0': 0.92, 'X_1': 0.49, 'X_2': 0.56, 'X_3': 0.96, 'X_4': 0.74, 'X_5': 0.56}\n",
      "Environment 1: Intervention on variable X_0 for value 0.\n",
      "Environment 2: Intervention on variable X_1 for value 0.\n",
      "Environment 3: Intervention on variable X_2 for value 0.\n",
      "Environment 4: Intervention on variable X_3 for value 0.\n",
      "Environment 5: Intervention on variable X_4 for value 0.\n",
      "Environment 6: Intervention on variable X_5 for value 0.\n",
      "Structural Causal Model of 7 variables: X_0, X_1, X_2, X_3, Y, X_4, X_5\n",
      "Following variables are actively intervened on: []\n",
      "Current Assignment Functions are:\n",
      "X_0 := f(N) = 1 N\t [ N := Normal(loc=0, scale=1) ]\n",
      "X_1 := f(N, X_0) = 1 + 1 N + 1 X_0\t [ N := Normal(loc=0, scale=1) ]\n",
      "X_2 := f(N, X_0, X_1) = 1 + 1 N + 0.8 X_0 + -1.2 X_1\t [ N := Normal(loc=0, scale=1) ]\n",
      "X_3 := f(N, X_1, X_2) = 1 N + 0.3 X_1 + 0.4 X_2\t [ N := Normal(loc=0, scale=1) ]\n",
      "  Y := f(N, X_3, X_0) = 0.6 + 1 N + 1 X_3 + -1 X_0\t [ N := Normal(loc=0, scale=1) ]\n",
      "X_4 := f(N, Y) = 1.2 + 1 N + -0.7 Y\t [ N := Normal(loc=0, scale=1) ]\n",
      "X_5 := f(N, X_3, Y) = 0.5 + 1 N + -0.7 X_3 + 0.4 Y\t [ N := Normal(loc=0, scale=1) ]\n",
      "Target Variable: Y\n",
      "Actual Parents: X_0, X_3\n",
      "Candidate Parents: X_0, X_1, X_2, X_3, X_4, X_5\n",
      "Sample size: 900\n"
     ]
    },
    {
     "data": {
      "application/vnd.jupyter.widget-view+json": {
       "model_id": "9a9c7ec798dd4ee58c391ee7d97e6ec7",
       "version_major": 2,
       "version_minor": 0
      },
      "text/plain": [
       "HBox(children=(FloatProgress(value=0.0), HTML(value='')))"
      ]
     },
     "metadata": {},
     "output_type": "display_data"
    },
    {
     "name": "stdout",
     "output_type": "stream",
     "text": [
      "\n",
      "{'X_0': 1.0, 'X_1': 0.51, 'X_2': 1.0, 'X_3': 1.0, 'X_4': 1.0, 'X_5': 1.0}\n",
      "Environment 1: Intervention on variable X_0 for value 0.\n",
      "Environment 2: Intervention on variable X_1 for value 0.\n",
      "Environment 3: Intervention on variable X_2 for value 0.\n",
      "Environment 4: Intervention on variable X_3 for value 0.\n",
      "Environment 5: Intervention on variable X_4 for value 0.\n",
      "Environment 6: Intervention on variable X_5 for value 0.\n",
      "Structural Causal Model of 7 variables: X_0, X_1, X_2, X_3, Y, X_4, X_5\n",
      "Following variables are actively intervened on: []\n",
      "Current Assignment Functions are:\n",
      "X_0 := f(N) = 1 N\t [ N := Normal(loc=0, scale=1) ]\n",
      "X_1 := f(N, X_0) = 1 + 1 N + 1 X_0\t [ N := Normal(loc=0, scale=1) ]\n",
      "X_2 := f(N, X_0, X_1) = 1 + 1 N + 0.8 X_0 + -1.2 X_1\t [ N := Normal(loc=0, scale=1) ]\n",
      "X_3 := f(N, X_1, X_2) = 1 N + 0.3 X_1 + 0.4 X_2\t [ N := Normal(loc=0, scale=1) ]\n",
      "  Y := f(N, X_3, X_0) = 0.6 + 1 N + 1 X_3 + -1 X_0\t [ N := Normal(loc=0, scale=1) ]\n",
      "X_4 := f(N, Y) = 1.2 + 1 N + -0.7 Y\t [ N := Normal(loc=0, scale=1) ]\n",
      "X_5 := f(N, X_3, Y) = 0.5 + 1 N + -0.7 X_3 + 0.4 Y\t [ N := Normal(loc=0, scale=1) ]\n",
      "Target Variable: Y\n",
      "Actual Parents: X_0, X_3\n",
      "Candidate Parents: X_0, X_1, X_2, X_3, X_4, X_5\n",
      "Sample size: 1200\n"
     ]
    },
    {
     "data": {
      "application/vnd.jupyter.widget-view+json": {
       "model_id": "79302c5e17b9491c8c7e46c3cc1573bc",
       "version_major": 2,
       "version_minor": 0
      },
      "text/plain": [
       "HBox(children=(FloatProgress(value=0.0), HTML(value='')))"
      ]
     },
     "metadata": {},
     "output_type": "display_data"
    },
    {
     "name": "stdout",
     "output_type": "stream",
     "text": [
      "\n",
      "{'X_0': 1.0, 'X_1': 0.0, 'X_2': 0.0, 'X_3': 1.0, 'X_4': 1.0, 'X_5': 0.0}\n",
      "Environment 1: Intervention on variable X_0 for value 0.\n",
      "Environment 2: Intervention on variable X_1 for value 0.\n",
      "Environment 3: Intervention on variable X_2 for value 0.\n",
      "Environment 4: Intervention on variable X_3 for value 0.\n",
      "Environment 5: Intervention on variable X_4 for value 0.\n",
      "Environment 6: Intervention on variable X_5 for value 0.\n",
      "Structural Causal Model of 7 variables: X_0, X_1, X_2, X_3, Y, X_4, X_5\n",
      "Following variables are actively intervened on: []\n",
      "Current Assignment Functions are:\n",
      "X_0 := f(N) = 1 N\t [ N := Normal(loc=0, scale=1) ]\n",
      "X_1 := f(N, X_0) = 1 + 1 N + 1 X_0\t [ N := Normal(loc=0, scale=1) ]\n",
      "X_2 := f(N, X_0, X_1) = 1 + 1 N + 0.8 X_0 + -1.2 X_1\t [ N := Normal(loc=0, scale=1) ]\n",
      "X_3 := f(N, X_1, X_2) = 1 N + 0.3 X_1 + 0.4 X_2\t [ N := Normal(loc=0, scale=1) ]\n",
      "  Y := f(N, X_3, X_0) = 0.6 + 1 N + 1 X_3 + -1 X_0\t [ N := Normal(loc=0, scale=1) ]\n",
      "X_4 := f(N, Y) = 1.2 + 1 N + -0.7 Y\t [ N := Normal(loc=0, scale=1) ]\n",
      "X_5 := f(N, X_3, Y) = 0.5 + 1 N + -0.7 X_3 + 0.4 Y\t [ N := Normal(loc=0, scale=1) ]\n",
      "Target Variable: Y\n",
      "Actual Parents: X_0, X_3\n",
      "Candidate Parents: X_0, X_1, X_2, X_3, X_4, X_5\n",
      "Sample size: 1500\n"
     ]
    },
    {
     "data": {
      "application/vnd.jupyter.widget-view+json": {
       "model_id": "2ed5162663fa4dbd9d1f88eaf7374de1",
       "version_major": 2,
       "version_minor": 0
      },
      "text/plain": [
       "HBox(children=(FloatProgress(value=0.0), HTML(value='')))"
      ]
     },
     "metadata": {},
     "output_type": "display_data"
    },
    {
     "name": "stdout",
     "output_type": "stream",
     "text": [
      "\n",
      "{'X_0': 1.0, 'X_1': 0.0, 'X_2': 0.0, 'X_3': 1.0, 'X_4': 1.0, 'X_5': 0.0}\n",
      "Environment 1: Intervention on variable X_0 for value 0.\n",
      "Environment 2: Intervention on variable X_1 for value 0.\n",
      "Environment 3: Intervention on variable X_2 for value 0.\n",
      "Environment 4: Intervention on variable X_3 for value 0.\n",
      "Environment 5: Intervention on variable X_4 for value 0.\n",
      "Environment 6: Intervention on variable X_5 for value 0.\n",
      "Structural Causal Model of 7 variables: X_0, X_1, X_2, X_3, Y, X_4, X_5\n",
      "Following variables are actively intervened on: []\n",
      "Current Assignment Functions are:\n",
      "X_0 := f(N) = 1 N\t [ N := Normal(loc=0, scale=1) ]\n",
      "X_1 := f(N, X_0) = 1 + 1 N + 1 X_0\t [ N := Normal(loc=0, scale=1) ]\n",
      "X_2 := f(N, X_0, X_1) = 1 + 1 N + 0.8 X_0 + -1.2 X_1\t [ N := Normal(loc=0, scale=1) ]\n",
      "X_3 := f(N, X_1, X_2) = 1 N + 0.3 X_1 + 0.4 X_2\t [ N := Normal(loc=0, scale=1) ]\n",
      "  Y := f(N, X_3, X_0) = 0.6 + 1 N + 1 X_3 + -1 X_0\t [ N := Normal(loc=0, scale=1) ]\n",
      "X_4 := f(N, Y) = 1.2 + 1 N + -0.7 Y\t [ N := Normal(loc=0, scale=1) ]\n",
      "X_5 := f(N, X_3, Y) = 0.5 + 1 N + -0.7 X_3 + 0.4 Y\t [ N := Normal(loc=0, scale=1) ]\n",
      "Target Variable: Y\n",
      "Actual Parents: X_0, X_3\n",
      "Candidate Parents: X_0, X_1, X_2, X_3, X_4, X_5\n",
      "Sample size: 3000\n"
     ]
    },
    {
     "data": {
      "application/vnd.jupyter.widget-view+json": {
       "model_id": "6a5fc44a1c204f19a01d0ac076e1f64e",
       "version_major": 2,
       "version_minor": 0
      },
      "text/plain": [
       "HBox(children=(FloatProgress(value=0.0), HTML(value='')))"
      ]
     },
     "metadata": {},
     "output_type": "display_data"
    },
    {
     "name": "stdout",
     "output_type": "stream",
     "text": [
      "\n",
      "{'X_0': 1.0, 'X_1': 0.0, 'X_2': 0.0, 'X_3': 1.0, 'X_4': 1.0, 'X_5': 0.0}\n"
     ]
    }
   ],
   "source": [
    "dev = torch.device(\"cuda\" if torch.cuda.is_available() else \"cpu\")\n",
    "seed = 0\n",
    "np.random.seed(seed)\n",
    "beta_star = None\n",
    "scm_generator, target_var = build_scm_medium, \"Y\"\n",
    "for sample_size in [30, 60, 90, 120, 200, 300, 600, 900, 1000, 1100, 1200, 1300, 1400, 1500, 3000]:\n",
    "# (build_scm_large, \"Y\"),\n",
    "# (partial(simulate, nr_genes=15), \"G_12\"),\n",
    "# (partial(simulate, nr_genes=20), \"G_16\"),\n",
    "# (partial(simulate, nr_genes=25), \"G_21\"),\n",
    "# (partial(simulate, nr_genes=30), \"G_29\"),\n",
    "    nr_repetitions = 20\n",
    "    for rep in range(nr_repetitions):\n",
    "        (\n",
    "            complete_data,\n",
    "            environments,\n",
    "            scm,\n",
    "            possible_parents,\n",
    "            target_parents,\n",
    "        ) = generate_data_from_scm(\n",
    "            scm=scm_generator(seed=seed),\n",
    "            markovblanket_interv_only=False,\n",
    "            target_var=target_var,\n",
    "            sample_size=sample_size,\n",
    "            seed=seed,\n",
    "        )\n",
    "        target_parents_indices = np.array(\n",
    "            [possible_parents.index(par) for par in target_parents]\n",
    "        )\n",
    "        nr_envs = np.unique(environments).max() + 1\n",
    "\n",
    "        results = []\n",
    "        epochs = 300\n",
    "        use_visdom = False\n",
    "        # for _ in range(nr_repetitions):\n",
    "        print(\"Sample size:\", sample_size)\n",
    "        ap = AgnosticPredictor(\n",
    "            epochs=epochs, batch_size=1000, visualize_with_visdom=use_visdom\n",
    "        )\n",
    "        results.append(ap.infer(complete_data, environments, target_var,))\n",
    "        if beta_star is None:\n",
    "            assignment = scm[target_var][1][scm.function_key]\n",
    "            beta_star = np.array([assignment.offset] + assignment.coefficients.tolist())\n",
    "        print(results[-1])\n",
    "        (res_hat, beta_hat), _, y_hat = evaluate(\n",
    "            complete_data,\n",
    "            ap,\n",
    "            environments,\n",
    "            ground_truth_assignment=scm[target_var][1][scm.function_key],\n",
    "            x_vars=target_parents,\n",
    "            targ_var=target_var,\n",
    "            plot=False\n",
    "        )\n",
    "        betas.append(beta_hat)\n",
    "        "
   ]
  },
  {
   "cell_type": "code",
   "execution_count": null,
   "metadata": {},
   "outputs": [],
   "source": []
  }
 ],
 "metadata": {
  "kernelspec": {
   "display_name": "Python [conda env:causalpy] *",
   "language": "python",
   "name": "conda-env-causalpy-py"
  },
  "language_info": {
   "codemirror_mode": {
    "name": "ipython",
    "version": 3
   },
   "file_extension": ".py",
   "mimetype": "text/x-python",
   "name": "python",
   "nbconvert_exporter": "python",
   "pygments_lexer": "ipython3",
   "version": "3.7.6"
  }
 },
 "nbformat": 4,
 "nbformat_minor": 4
}
